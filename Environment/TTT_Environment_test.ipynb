{
 "cells": [
  {
   "cell_type": "markdown",
   "metadata": {},
   "source": [
    "## Import in Local"
   ]
  },
  {
   "cell_type": "code",
   "execution_count": 1,
   "metadata": {},
   "outputs": [],
   "source": [
    "import os\n",
    "# 해당 py 파일이 존재하는 경로\n",
    "os.chdir(\"/Users/seungyeonlee/Documents/GitHub/24-2-TicTacToe/Environment\")\n",
    "from TTT_Environment import Environment"
   ]
  },
  {
   "cell_type": "markdown",
   "metadata": {},
   "source": [
    "## Import in Colab"
   ]
  },
  {
   "cell_type": "code",
   "execution_count": null,
   "metadata": {},
   "outputs": [],
   "source": [
    "import os\n",
    "# Mount google Drive\n",
    "from google.colab import drive\n",
    "drive.mount('/content/drive')\n",
    "\n",
    "# 이 경로에 해당 py 파일이 존재해야 함\n",
    "os.chdir(\"/content/drive/MyDrive/Sabina_Colab/tictactoe\")\n",
    "\n",
    "!python TTT_Environment.py\n",
    "from TTT_Environment import Environment"
   ]
  },
  {
   "cell_type": "markdown",
   "metadata": {},
   "source": [
    "## Test Code"
   ]
  },
  {
   "cell_type": "code",
   "execution_count": 2,
   "metadata": {},
   "outputs": [
    {
     "name": "stdout",
     "output_type": "stream",
     "text": [
      ". . . \n",
      ". . . \n",
      ". . .\n",
      "-------\n"
     ]
    }
   ],
   "source": [
    "state_size = (3, 3)\n",
    "env = Environment(state_size)\n",
    "env.render(env.present_state)"
   ]
  },
  {
   "cell_type": "code",
   "execution_count": 6,
   "metadata": {},
   "outputs": [
    {
     "name": "stdout",
     "output_type": "stream",
     "text": [
      "True\n",
      "[1 1 1 1 1 1 1 1 1]\n",
      "[Turn 1] Reward:0, Done:False, Win:False\n",
      ". . . \n",
      "X . . \n",
      ". . .\n",
      "-------\n",
      "False\n",
      "[1 1 1 0 1 1 1 1 1]\n",
      "[Turn 2] Reward:0, Done:False, Win:False\n",
      ". . O \n",
      "X . . \n",
      ". . .\n",
      "-------\n",
      "True\n",
      "[1 1 0 0 1 1 1 1 1]\n",
      "[Turn 3] Reward:0, Done:False, Win:False\n",
      ". . O \n",
      "X . . \n",
      ". X .\n",
      "-------\n",
      "False\n",
      "[1 1 0 0 1 1 1 0 1]\n",
      "[Turn 4] Reward:0, Done:False, Win:False\n",
      ". . O \n",
      "X O . \n",
      ". X .\n",
      "-------\n",
      "True\n",
      "[1 1 0 0 0 1 1 0 1]\n",
      "[Turn 5] Reward:0, Done:False, Win:False\n",
      "X . O \n",
      "X O . \n",
      ". X .\n",
      "-------\n",
      "False\n",
      "[0 1 0 0 0 1 1 0 1]\n",
      "[Turn 6] Reward:0, Done:False, Win:False\n",
      "X O O \n",
      "X O . \n",
      ". X .\n",
      "-------\n",
      "True\n",
      "[0 0 0 0 0 1 1 0 1]\n",
      "[Turn 7] Reward:0, Done:False, Win:False\n",
      "X O O \n",
      "X O . \n",
      ". X X\n",
      "-------\n",
      "False\n",
      "[0 0 0 0 0 1 1 0 0]\n",
      "[Turn 8] Reward:0, Done:False, Win:False\n",
      "X O O \n",
      "X O O \n",
      ". X X\n",
      "-------\n",
      "True\n",
      "[0 0 0 0 0 0 1 0 0]\n",
      "[Turn 9] Reward:-1, Done:True, Win:True\n",
      "X O O \n",
      "X O O \n",
      "X X X\n",
      "-------\n"
     ]
    }
   ],
   "source": [
    "# Playing one game randomly\n",
    "env.reset()\n",
    "done = False\n",
    "turn = 0\n",
    "\n",
    "while not done:\n",
    "    turn += 1\n",
    "    state = env.present_state\n",
    "    legal_actions = env.get_legal_actions(state)\n",
    "    print(env.player)\n",
    "    print(legal_actions)\n",
    "    state = env.present_state\n",
    "    action = env.choose_random_action(state)\n",
    "    next_state ,reward, done, is_win = env.step(action)\n",
    "\n",
    "    print(f\"[Turn {turn}] Reward:{reward}, Done:{done}, Win:{is_win}\")\n",
    "    env.render(next_state)"
   ]
  },
  {
   "cell_type": "code",
   "execution_count": null,
   "metadata": {},
   "outputs": [],
   "source": []
  }
 ],
 "metadata": {
  "kernelspec": {
   "display_name": "Python 3.9.10 64-bit",
   "language": "python",
   "name": "python3"
  },
  "language_info": {
   "codemirror_mode": {
    "name": "ipython",
    "version": 3
   },
   "file_extension": ".py",
   "mimetype": "text/x-python",
   "name": "python",
   "nbconvert_exporter": "python",
   "pygments_lexer": "ipython3",
   "version": "3.9.10"
  },
  "orig_nbformat": 4,
  "vscode": {
   "interpreter": {
    "hash": "aee8b7b246df8f9039afb4144a1f6fd8d2ca17a180786b69acc140d282b71a49"
   }
  }
 },
 "nbformat": 4,
 "nbformat_minor": 2
}
