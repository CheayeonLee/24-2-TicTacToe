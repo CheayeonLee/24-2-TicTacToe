{
 "cells": [
  {
   "cell_type": "code",
   "execution_count": 1,
   "metadata": {},
   "outputs": [
    {
     "ename": "ImportError",
     "evalue": "cannot import name 'Environment' from partially initialized module 'Environment2' (most likely due to a circular import) (/Users/seungyeonlee/Documents/GitHub/24-2-TicTacToe/Environment/Environment2.py)",
     "output_type": "error",
     "traceback": [
      "\u001b[0;31m---------------------------------------------------------------------------\u001b[0m",
      "\u001b[0;31mImportError\u001b[0m                               Traceback (most recent call last)",
      "Cell \u001b[0;32mIn[1], line 4\u001b[0m\n\u001b[1;32m      2\u001b[0m \u001b[38;5;66;03m# 해당 py 파일이 존재하는 경로\u001b[39;00m\n\u001b[1;32m      3\u001b[0m os\u001b[38;5;241m.\u001b[39mchdir(\u001b[38;5;124m\"\u001b[39m\u001b[38;5;124m/Users/seungyeonlee/Documents/GitHub/24-2-TicTacToe/Environment\u001b[39m\u001b[38;5;124m\"\u001b[39m)\n\u001b[0;32m----> 4\u001b[0m \u001b[38;5;28;01mfrom\u001b[39;00m \u001b[38;5;21;01mEnvironment2\u001b[39;00m \u001b[38;5;28;01mimport\u001b[39;00m Environment\n\u001b[1;32m      5\u001b[0m \u001b[38;5;28;01mfrom\u001b[39;00m \u001b[38;5;21;01mState\u001b[39;00m \u001b[38;5;28;01mimport\u001b[39;00m State\n",
      "File \u001b[0;32m~/Documents/GitHub/24-2-TicTacToe/Environment/Environment2.py:3\u001b[0m\n\u001b[1;32m      1\u001b[0m \u001b[39mimport\u001b[39;00m \u001b[39mnumpy\u001b[39;00m \u001b[39mas\u001b[39;00m \u001b[39mnp\u001b[39;00m\n\u001b[0;32m----> 3\u001b[0m \u001b[39mfrom\u001b[39;00m \u001b[39mState\u001b[39;00m \u001b[39mimport\u001b[39;00m State\n\u001b[1;32m      5\u001b[0m \u001b[39m# parameter\u001b[39;00m\n\u001b[1;32m      6\u001b[0m STATE_SIZE \u001b[39m=\u001b[39m (\u001b[39m3\u001b[39m, \u001b[39m3\u001b[39m)\n",
      "File \u001b[0;32m~/Documents/GitHub/24-2-TicTacToe/Environment/State.py:6\u001b[0m\n\u001b[1;32m      3\u001b[0m \u001b[39mfrom\u001b[39;00m \u001b[39mtyping\u001b[39;00m \u001b[39mimport\u001b[39;00m Tuple\n\u001b[1;32m      4\u001b[0m \u001b[39mimport\u001b[39;00m \u001b[39mcopy\u001b[39;00m\n\u001b[0;32m----> 6\u001b[0m \u001b[39mfrom\u001b[39;00m \u001b[39mEnvironment2\u001b[39;00m \u001b[39mimport\u001b[39;00m Environment\n\u001b[1;32m      8\u001b[0m \u001b[39m# parameter\u001b[39;00m\n\u001b[1;32m      9\u001b[0m STATE_SIZE \u001b[39m=\u001b[39m (\u001b[39m3\u001b[39m, \u001b[39m3\u001b[39m)\n",
      "\u001b[0;31mImportError\u001b[0m: cannot import name 'Environment' from partially initialized module 'Environment2' (most likely due to a circular import) (/Users/seungyeonlee/Documents/GitHub/24-2-TicTacToe/Environment/Environment2.py)"
     ]
    }
   ],
   "source": [
    "import os\n",
    "# 해당 py 파일이 존재하는 경로\n",
    "os.chdir(\"/Users/seungyeonlee/Documents/GitHub/24-2-TicTacToe/Environment\")\n",
    "from Environment2 import Environment\n",
    "from State import State"
   ]
  },
  {
   "cell_type": "code",
   "execution_count": 4,
   "metadata": {},
   "outputs": [],
   "source": [
    "import time"
   ]
  },
  {
   "cell_type": "code",
   "execution_count": 6,
   "metadata": {},
   "outputs": [
    {
     "name": "stdout",
     "output_type": "stream",
     "text": [
      "----------\n",
      ". . . \n",
      ". . . \n",
      ". . .\n",
      "[Turn 0] done: False, lose: False\n",
      "----------\n",
      ". . . \n",
      "X . . \n",
      ". . .\n",
      "[Turn 1] done: False, lose: False\n",
      "----------\n",
      "O . . \n",
      "X . . \n",
      ". . .\n",
      "[Turn 2] done: False, lose: False\n",
      "----------\n",
      "O . X \n",
      "X . . \n",
      ". . .\n",
      "[Turn 3] done: False, lose: False\n",
      "----------\n",
      "O . X \n",
      "X . O \n",
      ". . .\n",
      "[Turn 4] done: False, lose: False\n",
      "----------\n",
      "O . X \n",
      "X X O \n",
      ". . .\n",
      "[Turn 5] done: False, lose: False\n",
      "----------\n",
      "O . X \n",
      "X X O \n",
      "O . .\n",
      "[Turn 6] done: False, lose: False\n",
      "----------\n",
      "O . X \n",
      "X X O \n",
      "O . X\n",
      "[Turn 7] done: False, lose: False\n",
      "----------\n",
      "O . X \n",
      "X X O \n",
      "O O X\n",
      "[Turn 8] done: False, lose: False\n",
      "----------\n",
      "O X X \n",
      "X X O \n",
      "O O X\n",
      "[Turn 9] done: True, lose: False\n"
     ]
    }
   ],
   "source": [
    "# playing one game\n",
    "done = False\n",
    "state = State()\n",
    "turn = 0\n",
    "while True:\n",
    "    print(\"-\"*10)\n",
    "    if turn % 2 == 0:\n",
    "        state.render()\n",
    "        done, is_lose = state.is_done()\n",
    "        print(f\"[Turn {turn}] done: {done}, lose: {is_lose}\")\n",
    "        if done: break\n",
    "\n",
    "        action = state.get_random_action()\n",
    "        enemy_state = state.next(action)\n",
    "\n",
    "    else:\n",
    "        enemy_state.render()\n",
    "        done, is_lose = enemy_state.is_done()\n",
    "        print(f\"[Turn {turn}] done: {done}, lose: {is_lose}\")\n",
    "        if done: break\n",
    "        \n",
    "        action = enemy_state.get_random_action()\n",
    "        state = enemy_state.next(action)\n",
    "\n",
    "    turn += 1"
   ]
  },
  {
   "cell_type": "code",
   "execution_count": 7,
   "metadata": {},
   "outputs": [
    {
     "name": "stdout",
     "output_type": "stream",
     "text": [
      "20.519424541999626\n",
      "0.20519424541999626\n"
     ]
    }
   ],
   "source": [
    "# time test\n",
    "time_list = []\n",
    "\n",
    "for _ in range(100):\n",
    "    start_time = time.perf_counter()\n",
    "\n",
    "    for _ in range(1000):\n",
    "        done = False\n",
    "        state = State()\n",
    "        turn = 0\n",
    "        while True:\n",
    "            # print(\"-\"*10)\n",
    "            if turn % 2 == 0:\n",
    "                # state.render()\n",
    "                done, is_lose = state.is_done()\n",
    "                # print(f\"[Turn {turn}] done: {done}, lose: {is_lose}\")\n",
    "                if done: break\n",
    "\n",
    "                action = state.get_random_action()\n",
    "                enemy_state = state.next(action)\n",
    "\n",
    "            else:\n",
    "                # enemy_state.render()\n",
    "                done, is_lose = enemy_state.is_done()\n",
    "                # print(f\"[Turn {turn}] done: {done}, lose: {is_lose}\")\n",
    "                if done: break\n",
    "                \n",
    "                action = enemy_state.get_random_action()\n",
    "                state = enemy_state.next(action)\n",
    "\n",
    "            turn += 1\n",
    "\n",
    "    end_time = time.perf_counter()\n",
    "    time_list.append(end_time - start_time)\n",
    "    # print(end_time - start_time)\n",
    "\n",
    "print(sum(time_list))\n",
    "print(sum(time_list)/100)\n",
    "    "
   ]
  },
  {
   "cell_type": "code",
   "execution_count": null,
   "metadata": {},
   "outputs": [],
   "source": []
  }
 ],
 "metadata": {
  "kernelspec": {
   "display_name": "Python 3.9.10 64-bit",
   "language": "python",
   "name": "python3"
  },
  "language_info": {
   "codemirror_mode": {
    "name": "ipython",
    "version": 3
   },
   "file_extension": ".py",
   "mimetype": "text/x-python",
   "name": "python",
   "nbconvert_exporter": "python",
   "pygments_lexer": "ipython3",
   "version": "3.9.10"
  },
  "orig_nbformat": 4,
  "vscode": {
   "interpreter": {
    "hash": "aee8b7b246df8f9039afb4144a1f6fd8d2ca17a180786b69acc140d282b71a49"
   }
  }
 },
 "nbformat": 4,
 "nbformat_minor": 2
}
